{
 "cells": [
  {
   "cell_type": "code",
   "execution_count": 1,
   "metadata": {},
   "outputs": [],
   "source": [
    "import paito\n",
    "import pandas as pd"
   ]
  },
  {
   "cell_type": "code",
   "execution_count": 2,
   "metadata": {},
   "outputs": [
    {
     "data": {
      "text/html": [
       "<div>\n",
       "<style scoped>\n",
       "    .dataframe tbody tr th:only-of-type {\n",
       "        vertical-align: middle;\n",
       "    }\n",
       "\n",
       "    .dataframe tbody tr th {\n",
       "        vertical-align: top;\n",
       "    }\n",
       "\n",
       "    .dataframe thead th {\n",
       "        text-align: right;\n",
       "    }\n",
       "</style>\n",
       "<table border=\"1\" class=\"dataframe\">\n",
       "  <thead>\n",
       "    <tr style=\"text-align: right;\">\n",
       "      <th></th>\n",
       "      <th>TITULO</th>\n",
       "      <th>ANO</th>\n",
       "      <th>NOMES_AJUSTADOS</th>\n",
       "    </tr>\n",
       "  </thead>\n",
       "  <tbody>\n",
       "    <tr>\n",
       "      <th>0</th>\n",
       "      <td>POSSVEL DESCREVER EPISDIOS DE SRIES DE TELEVI...</td>\n",
       "      <td>2017.0</td>\n",
       "      <td>['PEDRO OLMO STANCIOLI VAZ DE MELO', 'ADRIANO ...</td>\n",
       "    </tr>\n",
       "    <tr>\n",
       "      <th>1</th>\n",
       "      <td>POSSVEL PREVER EVASO COM BASE APENAS NO DESEM...</td>\n",
       "      <td>2021.0</td>\n",
       "      <td>['SIMONE DE LIMA MARTINS', 'ALEXANDRE PLASTINO...</td>\n",
       "    </tr>\n",
       "    <tr>\n",
       "      <th>2</th>\n",
       "      <td>10SENT A STABLE SENTIMENT ANALYSIS METHOD BASE...</td>\n",
       "      <td>2019.0</td>\n",
       "      <td>['FABRICIO BENEVENUTO DE SOUZA', 'MARCOS ANDRE...</td>\n",
       "    </tr>\n",
       "    <tr>\n",
       "      <th>3</th>\n",
       "      <td>2015 IEEE LATIN AMERICA NETWORK OPERATION AND ...</td>\n",
       "      <td>2016.0</td>\n",
       "      <td>['AUGUSTO JOSE VENANCIO NETO', 'ALDRI LUIZ DOS...</td>\n",
       "    </tr>\n",
       "    <tr>\n",
       "      <th>4</th>\n",
       "      <td>2ISOGENIES BETWEEN ELLIPTIC CURVES IN HESSE MODEL</td>\n",
       "      <td>2018.0</td>\n",
       "      <td>['JULIO CESAR LOPEZ HERNANDEZ', 'RICARDO DAHAB']</td>\n",
       "    </tr>\n",
       "  </tbody>\n",
       "</table>\n",
       "</div>"
      ],
      "text/plain": [
       "                                              TITULO     ANO  \\\n",
       "0   POSSVEL DESCREVER EPISDIOS DE SRIES DE TELEVI...  2017.0   \n",
       "1   POSSVEL PREVER EVASO COM BASE APENAS NO DESEM...  2021.0   \n",
       "2  10SENT A STABLE SENTIMENT ANALYSIS METHOD BASE...  2019.0   \n",
       "3  2015 IEEE LATIN AMERICA NETWORK OPERATION AND ...  2016.0   \n",
       "4  2ISOGENIES BETWEEN ELLIPTIC CURVES IN HESSE MODEL  2018.0   \n",
       "\n",
       "                                     NOMES_AJUSTADOS  \n",
       "0  ['PEDRO OLMO STANCIOLI VAZ DE MELO', 'ADRIANO ...  \n",
       "1  ['SIMONE DE LIMA MARTINS', 'ALEXANDRE PLASTINO...  \n",
       "2  ['FABRICIO BENEVENUTO DE SOUZA', 'MARCOS ANDRE...  \n",
       "3  ['AUGUSTO JOSE VENANCIO NETO', 'ALDRI LUIZ DOS...  \n",
       "4   ['JULIO CESAR LOPEZ HERNANDEZ', 'RICARDO DAHAB']  "
      ]
     },
     "execution_count": 2,
     "metadata": {},
     "output_type": "execute_result"
    }
   ],
   "source": [
    "df = pd.read_csv(\"tabela.csv\")\n",
    "df.head()"
   ]
  },
  {
   "cell_type": "code",
   "execution_count": 3,
   "metadata": {},
   "outputs": [],
   "source": [
    "''' Separando os nomes para criar os vértices '''\n",
    "def formatar(nomes):\n",
    "    # Converte a string numa lista\n",
    "    nomes = eval(nomes) \n",
    "    return [f\"{nome.strip()}\" for nome in nomes]\n",
    "\n",
    "# Aplica a função a coluna de nomes\n",
    "nomesNodes = df['NOMES_AJUSTADOS'].apply(formatar)"
   ]
  },
  {
   "cell_type": "code",
   "execution_count": 4,
   "metadata": {},
   "outputs": [],
   "source": [
    "''' criando o grafo com matriz '''\n",
    "matriz = paito.Grafo(repr=\"matriz\", direcionado=False, ponderado=True)\n"
   ]
  },
  {
   "cell_type": "code",
   "execution_count": 5,
   "metadata": {},
   "outputs": [],
   "source": [
    "''' criando o grafo com lista '''\n",
    "lista = paito.Grafo(repr=\"lista\", direcionado=False, ponderado=True)\n"
   ]
  },
  {
   "cell_type": "code",
   "execution_count": 6,
   "metadata": {},
   "outputs": [],
   "source": [
    "''' adicionando os vértices na matriz '''\n",
    "for array in nomesNodes:\n",
    "    for nome in array:\n",
    "        if nome not in matriz.vertices:\n",
    "            matriz.adicionarVertice(nome)"
   ]
  },
  {
   "cell_type": "code",
   "execution_count": 7,
   "metadata": {},
   "outputs": [],
   "source": [
    "''' adicionando os vértices na lista '''\n",
    "for array in nomesNodes:\n",
    "    for nome in array:\n",
    "        if nome not in lista.vertices:\n",
    "            lista.adicionarVertice(nome)"
   ]
  },
  {
   "cell_type": "code",
   "execution_count": 8,
   "metadata": {},
   "outputs": [],
   "source": [
    "''' adicionando as arestas entre os autores - matriz '''\n",
    "from itertools import combinations\n",
    "\n",
    "nomes_ajustados = df['NOMES_AJUSTADOS'].apply(lambda x: eval(x))\n",
    "peso = 1\n",
    "\n",
    "for nomes in nomes_ajustados:\n",
    "    if len(nomes) > 1:\n",
    "        # Gerar todas as combinações possíveis de pares de nomes\n",
    "        combinacoes = combinations(nomes, 2)\n",
    "        for nome1, nome2 in combinacoes:\n",
    "            # se a aresta já existir, incrementa no peso\n",
    "            if matriz.verificarAresta(nome1, nome2) or matriz.verificarAresta(nome2, nome1) :\n",
    "                peso = matriz.recuperarPeso(nome1, nome2)\n",
    "                novoPeso = peso + 1 \n",
    "                matriz.atualizarPesoAresta(nome1, nome2, novoPeso)\n",
    "\n",
    "            # se não existir, adiciona aresta\n",
    "            else:\n",
    "                matriz.adicionarAresta(nome1, nome2)\n",
    "            "
   ]
  },
  {
   "cell_type": "code",
   "execution_count": 10,
   "metadata": {},
   "outputs": [],
   "source": [
    "''' adicionando as arestas entre os autores - lista '''\n",
    "from itertools import combinations\n",
    "\n",
    "nomes_ajustados = df['NOMES_AJUSTADOS'].apply(lambda x: eval(x))\n",
    "peso = 1\n",
    "\n",
    "for nomes in nomes_ajustados:\n",
    "    if len(nomes) > 1:\n",
    "        # Gerar todas as combinações possíveis de pares de nomes\n",
    "        combinacoes = combinations(nomes, 2)\n",
    "        for nome1, nome2 in combinacoes:\n",
    "            # se a aresta já existir, incrementa no peso\n",
    "            if lista.verificarAresta(nome1, nome2) or lista.verificarAresta(nome2, nome1) :\n",
    "                peso = lista.recuperarPeso(nome1, nome2)\n",
    "                novoPeso = peso + 1 \n",
    "                lista.atualizarPesoAresta(nome1, nome2, novoPeso)\n",
    "\n",
    "            # se não existir, adiciona aresta\n",
    "            else:\n",
    "                lista.adicionarAresta(nome1, nome2)\n",
    "        "
   ]
  },
  {
   "cell_type": "markdown",
   "metadata": {},
   "source": [
    "### 1) Quais pares de autores são os mais produtivos dentro da rede? Elenque os 10 pares de autores"
   ]
  },
  {
   "cell_type": "code",
   "execution_count": 11,
   "metadata": {},
   "outputs": [
    {
     "name": "stdout",
     "output_type": "stream",
     "text": [
      "[('RODRIGO DA ROSA RIGHI', 'CRISTIANO ANDRE DA COSTA', 192), ('BRUNO ZATT', 'LUCIANO VOLCAN AGOSTINI', 155), ('SIMONE ANDRE DA COSTA CAVALHEIRO', 'LUCIANA FOSS', 104), ('LUIZ GUSTAVO LEAO FERNANDES', 'DALVAN JAIR GRIEBLER', 80), ('ALDRI LUIZ DOS SANTOS', 'MICHELE NOGUEIRA LIMA', 76), ('EVERTON RANIELLY DE SOUSA CAVALCANTE', 'THAIS VASCONCELOS BATISTA', 68), ('DJAMEL FAWZI HADJ SADOK', 'JUDITH KELNER', 67), ('ADENAUER CORREA YAMIN', 'ANA MARILZA PERNAS FLEISCHMANN', 63), ('PEDRO HENRIQUE BUGATTI', 'PRISCILA TIEMI MAEDA SAITO', 58), ('CAETANO TRAINA JUNIOR', 'AGMA JUCI MACHADO TRAINA', 58)]\n"
     ]
    }
   ],
   "source": [
    "''' função mais_produtivos para matriz '''\n",
    "def mais_produtivos():\n",
    "    pares = []\n",
    "    for vertice in matriz.vertices:\n",
    "        vizinhos = matriz.pegaVizinhos(vertice)\n",
    "        for vizinho in vizinhos:\n",
    "            peso = matriz.recuperarPeso(vertice, vizinho)\n",
    "            if not any((v == vertice and w == vizinho) or (v == vizinho and w == vertice) for v, w, p in pares):\n",
    "                pares.append((vertice, vizinho, peso))\n",
    "\n",
    "    # ordena a lista de pares de nomes em ordem decrescente\n",
    "    pares.sort(key=lambda x: x[2], reverse=True)\n",
    "\n",
    "    # retorna apenas os 10 tops\n",
    "    return pares[:10]\n",
    "\n",
    "print(mais_produtivos())\n",
    "\n"
   ]
  },
  {
   "cell_type": "code",
   "execution_count": 12,
   "metadata": {},
   "outputs": [
    {
     "name": "stdout",
     "output_type": "stream",
     "text": [
      "[('RODRIGO DA ROSA RIGHI', 'CRISTIANO ANDRE DA COSTA', 192), ('BRUNO ZATT', 'LUCIANO VOLCAN AGOSTINI', 155), ('SIMONE ANDRE DA COSTA CAVALHEIRO', 'LUCIANA FOSS', 104), ('LUIZ GUSTAVO LEAO FERNANDES', 'DALVAN JAIR GRIEBLER', 80), ('ALDRI LUIZ DOS SANTOS', 'MICHELE NOGUEIRA LIMA', 76), ('EVERTON RANIELLY DE SOUSA CAVALCANTE', 'THAIS VASCONCELOS BATISTA', 68), ('DJAMEL FAWZI HADJ SADOK', 'JUDITH KELNER', 67), ('ADENAUER CORREA YAMIN', 'ANA MARILZA PERNAS FLEISCHMANN', 63), ('PEDRO HENRIQUE BUGATTI', 'PRISCILA TIEMI MAEDA SAITO', 58), ('CAETANO TRAINA JUNIOR', 'AGMA JUCI MACHADO TRAINA', 58)]\n"
     ]
    }
   ],
   "source": [
    "''' função mais_produtivos para lista '''\n",
    "def mais_produtivos():\n",
    "    pares = []\n",
    "    for vertice in matriz.vertices:\n",
    "        vizinhos = matriz.pegaVizinhos(vertice)\n",
    "        for vizinho in vizinhos:\n",
    "            peso = lista.recuperarPeso(vertice, vizinho)\n",
    "            if not any((v == vertice and w == vizinho) or (v == vizinho and w == vertice) for v, w, p in pares):\n",
    "                pares.append((vertice, vizinho, peso))\n",
    "\n",
    "    # ordena a lista de pares de nomes em ordem decrescente\n",
    "    pares.sort(key=lambda x: x[2], reverse=True)\n",
    "\n",
    "    # retorna apenas os 10 tops\n",
    "    return pares[:10]\n",
    "\n",
    "print(mais_produtivos())"
   ]
  },
  {
   "cell_type": "markdown",
   "metadata": {},
   "source": [
    "### 2) Quantas componentes o grafo possui? O que isso representa?\n"
   ]
  },
  {
   "cell_type": "code",
   "execution_count": 13,
   "metadata": {},
   "outputs": [
    {
     "name": "stdout",
     "output_type": "stream",
     "text": [
      "O grafo apresenta o total de 5 componentes.\n"
     ]
    }
   ],
   "source": [
    "'''Matriz'''\n",
    "components = matriz.extractComponents()\n",
    "print(f\"O grafo apresenta o total de {len(components)} componentes.\")"
   ]
  },
  {
   "cell_type": "code",
   "execution_count": 14,
   "metadata": {},
   "outputs": [
    {
     "name": "stdout",
     "output_type": "stream",
     "text": [
      "O grafo apresenta o total de 5 componentes.\n"
     ]
    }
   ],
   "source": [
    "'''Lista'''\n",
    "components = lista.extractComponents()\n",
    "print(f\"O grafo apresenta o total de {len(components)} componentes.\")"
   ]
  },
  {
   "cell_type": "markdown",
   "metadata": {},
   "source": [
    "### 3) Qual é a distribuição dos graus dos nós da rede? Essa distribuição demonstra comportamento de uma rede complexa?"
   ]
  },
  {
   "cell_type": "code",
   "execution_count": 15,
   "metadata": {},
   "outputs": [
    {
     "name": "stderr",
     "output_type": "stream",
     "text": [
      "d:\\faculdadadade\\5º Período\\Graphs\\TDE2\\TDE-2---Graphs\\paito.py:1411: UserWarning: \n",
      "The palette list has fewer values (8) than needed (24) and will cycle, which may produce an uninterpretable plot.\n",
      "  sns.countplot(data=df, x='graus', palette=colors, hue='graus', dodge=False, legend=False)\n"
     ]
    },
    {
     "data": {
      "image/png": "[encoded data removed]",
      "text/plain": [
       "<Figure size 640x480 with 1 Axes>"
      ]
     },
     "metadata": {},
     "output_type": "display_data"
    }
   ],
   "source": [
    "''' Aqui usaremos o gráfico para nos auxiliar na identificação da distribuição de grau'''\n",
    "matriz.gerarHistograma()"
   ]
  },
  {
   "cell_type": "markdown",
   "metadata": {},
   "source": [
    "### 4) Quais são os 10 autores mais influentes perante a métrica de centralidade de grau?  O que essa métrica representa nesse contexto?"
   ]
  },
  {
   "cell_type": "code",
   "execution_count": 16,
   "metadata": {},
   "outputs": [
    {
     "name": "stdout",
     "output_type": "stream",
     "text": [
      "[('JO UEYAMA', 0.0331), ('MARCOS KALINOWSKI', 0.0303), ('LI WEIGANG', 0.0289), ('ANTONIO ALFREDO FERREIRA LOUREIRO', 0.0289), ('WAGNER MEIRA JUNIOR', 0.0275), ('CRISTIANO ANDRE DA COSTA', 0.0275), ('RODOLFO IPOLITO MENEGUETTE', 0.0275), ('GERALDO PEREIRA ROCHA FILHO', 0.0262), ('DAVID MENOTTI GOMES', 0.0262), ('UEVERTON DOS SANTOS SOUZA', 0.0262)]\n"
     ]
    }
   ],
   "source": [
    "''' Função que calcula a centralidade de grau e retorna os 10 mais tops - matriz'''\n",
    "def top_degree_centralities():\n",
    "    degreeCentralities = matriz.allDegreeCentralities()\n",
    "\n",
    "    # retorna os top 10 vértices com a maior centralidade de grau em ordem decrescente\n",
    "    return sorted(degreeCentralities.items(), key=lambda x: x[1], reverse=True)[:10]\n",
    "\n",
    "print(top_degree_centralities())\n"
   ]
  },
  {
   "cell_type": "code",
   "execution_count": 17,
   "metadata": {},
   "outputs": [
    {
     "name": "stdout",
     "output_type": "stream",
     "text": [
      "[('JO UEYAMA', 0.0331), ('MARCOS KALINOWSKI', 0.0303), ('LI WEIGANG', 0.0289), ('ANTONIO ALFREDO FERREIRA LOUREIRO', 0.0289), ('WAGNER MEIRA JUNIOR', 0.0275), ('CRISTIANO ANDRE DA COSTA', 0.0275), ('RODOLFO IPOLITO MENEGUETTE', 0.0275), ('GERALDO PEREIRA ROCHA FILHO', 0.0262), ('DAVID MENOTTI GOMES', 0.0262), ('UEVERTON DOS SANTOS SOUZA', 0.0262)]\n"
     ]
    }
   ],
   "source": [
    "''' Função que calcula a centralidade de grau e retorna os 10 mais tops - lista'''\n",
    "def top_degree_centralities():\n",
    "    degreeCentralities = lista.allDegreeCentralities()\n",
    "\n",
    "    # retorna os top 10 vértices com a maior centralidade de grau em ordem decrescente\n",
    "    return sorted(degreeCentralities.items(), key=lambda x: x[1], reverse=True)[:10]\n",
    "\n",
    "print(top_degree_centralities())\n"
   ]
  },
  {
   "cell_type": "markdown",
   "metadata": {},
   "source": [
    "### 5) Quais são os 10 autores mais influentes perante a métrica de centralidade de intermediação?"
   ]
  },
  {
   "cell_type": "code",
   "execution_count": 18,
   "metadata": {},
   "outputs": [],
   "source": [
    "''' Função que calcula a centralidade de intermediação e retorna os 10 mais tops - matriz'''\n",
    "def top_bet_centralities():\n",
    "    betCentralities = matriz.allNodesBet()\n",
    "\n",
    "    # retorna os top 10 vértices com a maior centralidade de grau em ordem decrescente\n",
    "    return sorted(betCentralities.items(), key=lambda x: x[1], reverse=True)[:10]\n",
    "\n",
    "# print(top_bet_centralities())\n"
   ]
  },
  {
   "cell_type": "code",
   "execution_count": 19,
   "metadata": {},
   "outputs": [
    {
     "name": "stdout",
     "output_type": "stream",
     "text": [
      "[('JO UEYAMA', 0.04533683453823752), ('EDISON PIGNATON DE FREITAS', 0.03728785689773236), ('ROBERTO PEREIRA', 0.03480063746255947), ('ANDRE CARLOS PONCE DE LEON FERREIRA DE CARVALHO', 0.031774277534539236), ('MARCOS KALINOWSKI', 0.031088716179455498), ('VINICIUS FERNANDES DOS SANTOS', 0.03080951447518708), ('ADRIANO LORENA INACIO DE OLIVEIRA', 0.027830527736847428), ('GISELE LOBO PAPPA', 0.02676359660837196), ('LI WEIGANG', 0.02666901614997547), ('ALDRI LUIZ DOS SANTOS', 0.02560827949536231)]\n"
     ]
    }
   ],
   "source": [
    "''' Função que calcula a centralidade de intermediação e retorna os 10 mais tops - lista'''\n",
    "def top_bet_centralities():\n",
    "    betCentralities = lista.allNodesBet()\n",
    "\n",
    "    # retorna os top 10 vértices com a maior centralidade de grau em ordem decrescente\n",
    "    return sorted(betCentralities.items(), key=lambda x: x[1], reverse=True)[:10]\n",
    "\n",
    "print(top_bet_centralities())"
   ]
  },
  {
   "cell_type": "markdown",
   "metadata": {},
   "source": [
    "### 6) Quais são os 10 autores mais influentes perante a métrica de centralidade de proximidade? O que essa métrica representa nesse contexto?"
   ]
  },
  {
   "cell_type": "code",
   "execution_count": 20,
   "metadata": {},
   "outputs": [
    {
     "name": "stdout",
     "output_type": "stream",
     "text": [
      "[('ZHAO LIANG', 0.2871), ('ZANONI DIAS', 0.2585), ('YURI ABITBOL DE MENEZES FROTA', 0.2173), ('YOSHIKO WAKABAYASHI', 0.2249), ('YOSHIHARU KOHAYAKAWA', 0.2167), ('WILLIAM ROBSON SCHWARTZ', 0.2866), ('WEVERTON LUIS DA COSTA CORDEIRO', 0.2531), ('WANDERLEY LOPES DE SOUZA', 0.2016), ('WALDEMAR CELES FILHO', 0.2201), ('WAGNER MEIRA JUNIOR', 0.2657)]\n"
     ]
    }
   ],
   "source": [
    "''' Função que calcula os 10 tops closeness - matriz'''\n",
    "def top_closeness():\n",
    "    closenesses = matriz.closeness()\n",
    "\n",
    "    return sorted(closenesses, reverse=True)[:10]\n",
    "\n",
    "print(top_closeness())"
   ]
  },
  {
   "cell_type": "code",
   "execution_count": 21,
   "metadata": {},
   "outputs": [
    {
     "name": "stdout",
     "output_type": "stream",
     "text": [
      "[('ZHAO LIANG', 0.2871), ('ZANONI DIAS', 0.2585), ('YURI ABITBOL DE MENEZES FROTA', 0.2173), ('YOSHIKO WAKABAYASHI', 0.2249), ('YOSHIHARU KOHAYAKAWA', 0.2167), ('WILLIAM ROBSON SCHWARTZ', 0.2866), ('WEVERTON LUIS DA COSTA CORDEIRO', 0.2531), ('WANDERLEY LOPES DE SOUZA', 0.2016), ('WALDEMAR CELES FILHO', 0.2201), ('WAGNER MEIRA JUNIOR', 0.2657)]\n"
     ]
    }
   ],
   "source": [
    "''' Função que calcula os 10 tops closeness - lista'''\n",
    "def top_closeness():\n",
    "    closenesses = lista.closeness()\n",
    "\n",
    "    return sorted(closenesses, reverse=True)[:10]\n",
    "\n",
    "print(top_closeness())"
   ]
  },
  {
   "cell_type": "markdown",
   "metadata": {},
   "source": [
    "### 7) Quais são os 10 autores mais influentes perante a metrica de centralidade de excentricidade? O que essa métrica representa nesse contexto?"
   ]
  },
  {
   "cell_type": "code",
   "execution_count": 9,
   "metadata": {},
   "outputs": [
    {
     "ename": "TypeError",
     "evalue": "list indices must be integers or slices, not str",
     "output_type": "error",
     "traceback": [
      "\u001b[1;31m---------------------------------------------------------------------------\u001b[0m",
      "\u001b[1;31mTypeError\u001b[0m                                 Traceback (most recent call last)",
      "Cell \u001b[1;32mIn[9], line 14\u001b[0m\n\u001b[0;32m     11\u001b[0m     maior \u001b[38;5;241m=\u001b[39m \u001b[38;5;28mmax\u001b[39m(\u001b[38;5;28msorted\u001b[39m(allEcc, reverse\u001b[38;5;241m=\u001b[39m\u001b[38;5;28;01mTrue\u001b[39;00m)[:\u001b[38;5;241m10\u001b[39m])\n\u001b[0;32m     12\u001b[0m     \u001b[38;5;28mprint\u001b[39m(maior)\n\u001b[1;32m---> 14\u001b[0m \u001b[38;5;28mprint\u001b[39m(\u001b[43mtop_eccentricities\u001b[49m\u001b[43m(\u001b[49m\u001b[43m)\u001b[49m)\n",
      "Cell \u001b[1;32mIn[9], line 4\u001b[0m, in \u001b[0;36mtop_eccentricities\u001b[1;34m()\u001b[0m\n\u001b[0;32m      2\u001b[0m \u001b[38;5;28;01mdef\u001b[39;00m \u001b[38;5;21mtop_eccentricities\u001b[39m():\n\u001b[0;32m      3\u001b[0m     components \u001b[38;5;241m=\u001b[39m lista\u001b[38;5;241m.\u001b[39mextractComponents()\n\u001b[1;32m----> 4\u001b[0m     eccentricities \u001b[38;5;241m=\u001b[39m \u001b[43mlista\u001b[49m\u001b[38;5;241;43m.\u001b[39;49m\u001b[43mcomponentsEccentricity\u001b[49m\u001b[43m(\u001b[49m\u001b[43mcomponents\u001b[49m\u001b[43m)\u001b[49m\n\u001b[0;32m      5\u001b[0m     allEcc \u001b[38;5;241m=\u001b[39m []\n\u001b[0;32m      7\u001b[0m     \u001b[38;5;66;03m# adicionando todas as excentricidades em uma lista só\u001b[39;00m\n",
      "File \u001b[1;32md:\\faculdadadade\\5º Período\\Graphs\\TDE2\\TDE-2---Graphs\\paito.py:57\u001b[0m, in \u001b[0;36mGrafo.componentsEccentricity\u001b[1;34m(self, components)\u001b[0m\n\u001b[0;32m     55\u001b[0m         \u001b[38;5;28;01mfor\u001b[39;00m vertice \u001b[38;5;129;01min\u001b[39;00m component:\n\u001b[0;32m     56\u001b[0m             nodeEccentricity \u001b[38;5;241m=\u001b[39m \u001b[38;5;28mself\u001b[39m\u001b[38;5;241m.\u001b[39meccentricityFinder(vertice)\n\u001b[1;32m---> 57\u001b[0m             \u001b[43mcomponentEccentricities\u001b[49m\u001b[43m[\u001b[49m\u001b[43mvertice\u001b[49m\u001b[43m]\u001b[49m \u001b[38;5;241m=\u001b[39m  nodeEccentricity\n\u001b[0;32m     58\u001b[0m         eccentricities\u001b[38;5;241m.\u001b[39mappend(componentEccentricities)\n\u001b[0;32m     60\u001b[0m \u001b[38;5;28;01mreturn\u001b[39;00m eccentricities\n",
      "\u001b[1;31mTypeError\u001b[0m: list indices must be integers or slices, not str"
     ]
    }
   ],
   "source": [
    "''' Função que calcula os 10 tops eccentricity - lista'''\n",
    "def top_eccentricities():\n",
    "    components = lista.extractComponents()\n",
    "    eccentricities = lista.componentsEccentricity(components)\n",
    "    allEcc = []\n",
    "\n",
    "    # adicionando todas as excentricidades em uma lista só\n",
    "    for e in eccentricities:\n",
    "        allEcc.extend(e)\n",
    "    \n",
    "    maior = sorted(allEcc, reverse=True)[:10]\n",
    "    print(maior)\n",
    "\n",
    "print(top_eccentricities())\n",
    "\n"
   ]
  },
  {
   "cell_type": "code",
   "execution_count": 23,
   "metadata": {},
   "outputs": [
    {
     "name": "stdout",
     "output_type": "stream",
     "text": [
      "720\n",
      "COMPONENTE OLHA SO dict_keys(['ALEX SANDRO GOMES', 'RAFAEL DIAS ARAUJO', 'VINICIUS FERNANDES DOS SANTOS', 'LUIS ANTONIO BRASIL KOWADA', 'ALEXANDRE PLASTINO DE CARVALHO', 'ISABEL CRISTINA MELLO ROSSETI', 'LUIDI GELABERT SIMONETTI', 'FRANKLIN DE LIMA MARQUEZINO', 'DANIEL RATTON FIGUEIREDO', 'LAURA SILVIA BAHIENSE DA SILVA LEITE', 'PEDRO HENRIQUE GONZALEZ SILVA', 'RAPHAEL CARLOS SANTOS MACHADO', 'SANDRO JOSE RIGO', 'PATRICIA AUGUSTIN JAQUES MAILLARD', 'SANDRO RIGO', 'CRISTIANO ANDRE DA COSTA', 'CESAR HENRIQUE COMIN', 'ROBERTO MARCONDES CESAR JUNIOR', 'FABIO LUCIANO VERDI', 'JOAO LUIS GARCIA ROSA', 'MURILLO GUIMARAES CARNEIRO', 'RICARDO RODRIGUES CIFERRI', 'WANDERLEY LOPES DE SOUZA', 'DANIEL LUCREDIO', 'FABIANO CUTIGI FERRARI', 'AURI MARCELO RIZZO VINCENZI', 'ANDRE TAKESHI ENDO', 'JOSE CARLOS MALDONADO', 'JOSE REGINALDO HUGHES CARVALHO', 'ELAINE HARADA TEIXEIRA DE OLIVEIRA', 'JOSE PALAZZO MOREIRA DE OLIVEIRA', 'MIRELLA MOURA MORO', 'PEDRO OLMO STANCIOLI VAZ DE MELO', 'ALBERTO HENRIQUE FRADE LAENDER', 'RODRYGO LUIS TEODORO SANTOS', 'JUSSARA MARQUES DE ALMEIDA', 'BRUNO PEREIRA DOS SANTOS', 'HEITOR SOARES RAMOS FILHO', 'LUIZ FILIPE MENEZES VIEIRA', 'MICHELE NOGUEIRA LIMA', 'FERNANDO MAGNO QUINTAO PEREIRA', 'HANIEL MOREIRA BARBOSA', 'OMAR PARANAIBA VILELA NETO', 'LEONARDO BARBOSA E OLIVEIRA', 'FLAVIO LUIZ SEIXAS', 'VANIA DE OLIVEIRA NEVES', 'LEONARDO GRESTA PAULINO MURTA', 'RAFAEL PRIKLADNICKI', 'GUILHERME HORTA TRAVASSOS', 'MARCOS KALINOWSKI', 'TROY COSTA KOHWALTER', 'ALINE MARINS PAES CARVALHO', 'BRUNO LOPES VIEIRA', 'UEVERTON DOS SANTOS SOUZA', 'LUIS FELIPE IGNACIO CUNHA', 'THIAGO LOPES TRUGILLO DA SILVEIRA', 'FABIO PROTTI', 'LEANDRO SANTIAGO DE ARAUJO', 'GABRIEL ANTOINE LOUIS PAILLARD', 'CLAUDIO LUIS DE AMORIM', 'FLAVIA COIMBRA DELICATO', 'DEBORA CHRISTINA MUCHALUAT SAADE', 'ALESSANDRO FABRICIO GARCIA', 'IGOR MONTEIRO MORAES', 'SILVIO ERENO QUINCOZES', 'LUIZ SATORU OCHI', 'THIBAUT VICTOR GASTON VIDAL', 'MILTON BROWN DO COUTTO FILHO', 'ESTEBAN WALTER GONZALEZ CLUA', 'DANIEL CARDOSO MORAES DE OLIVEIRA', 'VALMIR CARNEIRO BARBOSA', 'JOSE FERREIRA DE REZENDE', 'FLAVIO DE OLIVEIRA SILVA', 'CRISTIANO BONATO BOTH', 'JOSE AUGUSTO SURUAGY MONTEIRO', 'RAFAEL PASQUINI', 'JULIANO ARAUJO WICKBOLDT', 'JEFERSON CAMPOS NOBRE', 'LUCIANO PASCHOAL GASPARY', 'LUCAS MELLO SCHNORR', 'PAOLO RECH', 'JOSE RODRIGO FURLANETTO DE AZAMBUJA', 'ARTHUR FRANCISCO LORENZON', 'WEVERTON LUIS DA COSTA CORDEIRO', 'BRENO BERNARD NICOLAU DE FRANCA', 'ESTHER LUNA COLOMBINI', 'HELIO PEDRINI', 'PEDRO JUSSIEU DE REZENDE', 'WILLIAM ROBSON SCHWARTZ', 'JOSE GUSTAVO DE SOUZA PAIVA', 'ROSANE MINGHIM', 'LUIS GUSTAVO NONATO', 'MARIA CRISTINA FERREIRA DE OLIVEIRA', 'ZHAO LIANG', 'DANIEL MACEDO BATISTA', 'FLAVIO SOARES CORREA DA SILVA', 'JO UEYAMA', 'EDMUNDO ROBERTO MAURO MADEIRA', 'GERALDO PEREIRA ROCHA FILHO', 'PRISCILA AMERICA SOLIS MENDEZ BARRETO', 'ANDRE CAVALCANTE HORA', 'EDUARDO FIGUEIREDO', 'MARCO TULIO DE OLIVEIRA VALENTE', 'MARCELO DE ALMEIDA MAIA', 'ADRIANO ALONSO VELOSO', 'ARNALDO DE ALBUQUERQUE ARAUJO', 'DAVID MENOTTI GOMES', 'EDUARDO CUNHA DE ALMEIDA', 'LUIGI CARRO', 'PAULO LICIO DE GEUS', 'ELIANE MARTINS', 'MARCO ANTONIO ZANATA ALVES', 'JEAN PAUL BARDDAL', 'ANDRE GUSTAVO HOCHULI', 'LUIZ EDUARDO SOARES DE OLIVEIRA', 'EDUARDO LUZEIRO FEITOSA', 'ALCEU DE SOUZA BRITTO JR', 'CARLOS NASCIMENTO SILLA JUNIOR', 'JULIO CESAR NIEVOLA', 'LUCIANO DE ANDRADE BARBOSA', 'REGIS PIRES MAGALHAES', 'ENYO JOSE TAVARES GONCALVES', 'KLEINNER SILVA FARIAS DE OLIVEIRA', 'MARCELO GATTASS', 'JOAO MARCOS DE ALMEIDA', 'BENJAMIN RENE CALLEJAS BEDREGAL', 'SIMONE ANDRE DA COSTA CAVALHEIRO', 'LEOMAR SOARES DA ROSA JUNIOR', 'CRISTINA MEINHARDT', 'SERGIO BAMPI', 'JACOB SCHARCANSKI', 'MARIANA RECAMONDE MENDOZA', 'JOAO LUIZ DIHL COMBA', 'GUILHERME OLIVEIRA MOTA', 'LAURENCE RODRIGUES DO AMARAL', 'RICARDO ARAUJO RIOS', 'LUIS DA CUNHA LAMB', 'ANDERSON ROCHA TAVARES', 'DOUGLAS GUIMARAES MACHARET', 'ERICKSON RANGEL DO NASCIMENTO', 'EDISON PIGNATON DE FREITAS', 'ANA LUCIA CETERTICH BAZZAN', 'FERNANDO SANTOS OSORIO', 'MOACIR ANTONELLI PONTI', 'MARCELO FINGER', 'ALFREDO GOLDMAN VEL LEJBMAN', 'LUIZ FERNANDO BITTENCOURT', 'ABEL GUILHERMINO DA SILVA FILHO', 'RUBENS FERNANDES NUNES', 'NELSON LUIS SALDANHA DA FONSECA', 'RODOLFO IPOLITO MENEGUETTE', 'RUDINEI GOULARTE', 'ELAINE PARROS MACHADO DE SOUSA', 'AGMA JUCI MACHADO TRAINA', 'CRISTINA DUTRA DE AGUIAR', 'CAETANO TRAINA JUNIOR', 'ROBSON LEONARDO FERREIRA CORDEIRO', 'JOSE FERNANDO RODRIGUES JUNIOR', 'ANDRE CARLOS PONCE DE LEON FERREIRA DE CARVALHO', 'MARIANA CURI', 'ALNEU DE ANDRADE LOPES', 'FRANCISCO APARECIDO RODRIGUES', 'SOLANGE OLIVEIRA REZENDE', 'HELOISA DE ARRUDA CAMARGO', 'AURORA TRINIDAD RAMIREZ POZO', 'ELIAS PROCOPIO DUARTE JUNIOR', 'EDUARDO ADILIO PELINSON ALCHIERI', 'ANDRE COSTA DRUMMOND', 'LI WEIGANG', 'AUGUSTO CEZAR ALVES SAMPAIO', 'ALEXANDRE CABRAL MOTA', 'FLAVIA DE ALMEIDA BARROS', 'GEBER LISBOA RAMALHO', 'VERONICA TEICHRIEB', 'ADRIANO LORENA INACIO DE OLIVEIRA', 'AURA CONCI', 'CELSO DA CRUZ CARNEIRO RIBEIRO', 'VANESSA BRAGANHOLO MURTA', 'MARTA LIMA DE QUEIROS MATTOSO', 'SERGIO LIFSCHITZ', 'MARKUS ENDLER', 'ALBERTO BARBOSA RAPOSO', 'SORAIA RAUPP MUSSE', 'BRUNO FEIJO', 'MARCO ANTONIO CASANOVA', 'HELIO CORTES VIEIRA LOPES', 'LUIZ ANDRE PORTES PAES LEME', 'TICIANA LINHARES COELHO DA SILVA', 'SIMONE DINIZ JUNQUEIRA BARBOSA', 'LUCIANA APARECIDA MARTINEZ ZAINA', 'BRUNO FREITAS GADELHA', 'ROSIANE DE FREITAS RODRIGUES', 'EULANDA MIRANDA DOS SANTOS', 'ALTIGRAN SOARES DA SILVA', 'VIVIANE PEREIRA MOREIRA', 'EDUARDO FREIRE NAKAMURA', 'ANTONIO ALFREDO FERREIRA LOUREIRO', 'RICARDO AUGUSTO RABELO OLIVEIRA', 'ALDRI LUIZ DOS SANTOS', 'DANIEL FERNANDES MACEDO', 'MARIO FERNANDO MONTENEGRO CAMPOS', 'JOSE MARCOS SILVA NOGUEIRA', 'MARCELO ANTONIO MAROTTA', 'ALETEIA PATRICIA FAVACHO DE ARAUJO', 'MYLENE CHRISTINE QUEIROZ DE FARIAS', 'ANJOLINA GRISI DE OLIVEIRA', 'RUY JOSE GUERRA BARRETTO DE QUEIROZ', 'FABIANO SILVA', 'ANDRE LUIS DE MEDEIROS SANTOS', 'CLEBER ZANCHETTIN', 'DJAMEL FAWZI HADJ SADOK', 'MICHEL SALES BONFIM', 'VINICIUS CARDOSO GARCIA', 'EDUARDO SANTANA DE ALMEIDA', 'UIRA KULESZA', 'CLAUDIA MARIA LIMA WERNER', 'ELISA YUMI NAKAGAWA', 'PAULO MATIAS', 'FABIO HAPP BOTLER', 'YOSHIHARU KOHAYAKAWA', 'ROBERTO FREITAS PARENTE', 'YOSHIKO WAKABAYASHI', 'CRISTINA GOMES FERNANDES', 'CARLOS EDUARDO FERREIRA', 'RAFAEL CRIVELLARI SALIBA SCHOUERY', 'CHRISTIANE NEME CAMPOS', 'FABIO LUIZ USBERTI', 'CID CARVALHO DE SOUZA', 'LUCAS FERRARI DE OLIVEIRA', 'MARCELO ZANCHETTA DO NASCIMENTO', 'MARCELO KEESE ALBERTINI', 'RITA MARIA DA SILVA JULIA', 'HENRIQUE COELHO FERNANDES', 'JEFFERSON RODRIGO DE SOUZA', 'EDSON PRESTES E SILVA JUNIOR', 'JOEL LUIS CARBONERA', 'MARCELO SOARES PIMENTA', 'INGRID OLIVEIRA DE NUNES', 'CARLOS JOSE PEREIRA DE LUCENA', 'CARLA MARIA DAL SASSO FREITAS', 'LUCINEIA HELOISA THOM', 'MARCIO DORN', 'LEANDRO KRUG WIVES', 'CARINA FRIEDRICH DORNELES', 'RENATA DE MATOS GALANTE', 'ADRIANO CESAR MACHADO PEREIRA', 'ANISIO MENDES LACERDA', 'WAGNER MEIRA JUNIOR', 'LUIZ CHAIMOWICZ', 'GILBERTO MEDEIROS RIBEIRO', 'JOAO EDUARDO FERREIRA', 'DUNCAN DUBUGRAS ALCOBA RUIZ', 'ISABEL HARB MANSSOUR', 'RICARDO FARIAS', 'MILENE SELBACH SILVEIRA', 'TAYANA UCHOA CONTE', 'RAIMUNDO DA SILVA BARRETO', 'VICENTE FERREIRA DE LUCENA JUNIOR', 'LUCAS CARVALHO CORDEIRO', 'LUCIANO SILVA', 'RICARDO AUGUSTO DA LUZ REIS', 'FERNANDO GEHM MORAES', 'MARCOS ENNES BARRETO', 'PAULO HENRIQUE MONTEIRO BORBA', 'LEOPOLDO MOTTA TEIXEIRA', 'RODRIGO BONIFACIO DE ALMEIDA', 'MARCOS MEDEIROS RAIMUNDO', 'ROBERTA DE SOUZA COELHO', 'MARCIA JACYNTHA NUNES RODRIGUES LUCENA', 'EDUARDO HENRIQUE DA SILVA ARANHA', 'BRUNO AUGUSTO NASSIF TRAVENCOLO', 'RODRIGO SANCHES MIANI', 'PEDRO FROSI ROSA', 'AUGUSTO JOSE VENANCIO NETO', 'MAYCON LEONE MACIEL PEIXOTO', 'CASSIO VINICIUS SERAFIM PRAZERES', 'GUSTAVO BITTENCOURT FIGUEIREDO', 'ISLAME FELIPE DA COSTA FERNANDES', 'MARCO CESAR GOLDBARG', 'SILVIA MARIA DINIZ MONTEIRO MAIA', 'ANTONIO CARLOS SCHNEIDER BECK FILHO', 'MARCIO EDUARDO KREUTZ', 'BRUNO MOTTA DE CARVALHO', 'MONICA MAGALHAES PEREIRA', 'ANNE MAGALY DE PAULA CANUTO', 'TERESA BERNARDA LUDERMIR', 'TSANG ING REN', 'CARLOS ALEXANDRE BARROS DE MELLO', 'CARLOS ANDRE GUIMARAES FERRAZ', 'EDNA NATIVIDADE DA SILVA BARROS', 'GEORGE MARCONI DE ARAUJO LIMA', 'ADENILTON JOSE DA SILVA', 'FERNANDO MACIANO DE PAULA NETO', 'PAULO SALGADO GOMES DE MATTOS NETO', 'RENATO VIMIEIRO', 'FRANCISCO DE ASSIS TENORIO DE CARVALHO', 'MARCOS ANTONIO DE OLIVEIRA', 'JAELSON FREIRE BRELAZ DE CASTRO', 'CARLA TACIANA LIMA LOURENCO SILVA SCHUENEMANN', 'FABIO QUEDA BUENO DA SILVA', 'PATRICIA CABRAL DE AZEVEDO RESTELLI TEDESCO', 'SIMONE CRISTIANE DOS SANTOS LIMA', 'ALEXANDRE MARCOS LINS DE VASCONCELOS', 'CARINA FROTA ALVES', 'GENAINA NUNES RODRIGUES', 'CECILIA MARY FISCHER RUBIRA', 'JULIO CESAR DOS REIS', 'ANDRE SANTANCHE', 'RODOLFO JARDIM DE AZEVEDO', 'MARCELO DA SILVA REIS', 'MARILTON SANCHOTENE DE AGUIAR', 'CARLOS EDUARDO PEREIRA', 'ANDERSON DE REZENDE ROCHA', 'JURANDY GOMES DE ALMEIDA JUNIOR', 'MARCOS ANDRE GONCALVES', 'FLAVIO VINICIUS DINIZ DE FIGUEIREDO', 'FABRICIO BENEVENUTO DE SOUZA', 'LEANDRO APARECIDO VILLAS', 'ISLENE CALCIOLARI GARCIA', 'JACQUES WAINER', 'RICARDO AUGUSTO SOUZA FERNANDES', 'JOAO GUILHERME MAIA DE MENEZES', 'ALAN DEMETRIUS BARIA VALEJO', 'RICARDO CERRI', 'RODRIGO COELHO BARROS', 'FELIPE RECH MENEGUZZI', 'DALVAN JAIR GRIEBLER', 'MARCIO SARROGLIA PINHO', 'CESAR AUGUSTO MISSIO MARCON', 'AVELINO FRANCISCO ZORZO', 'CESAR AUGUSTO FONTICIELHA DE ROSE', 'SIMONE DO ROCIO SENGER DE SOUZA', 'SEIJI ISOTANI', 'ALEXANDRE CLAUDIO BOTAZZO DELBEM', 'RICARDO MARCONDES MARCACINI', 'MARIA DA GRACA CAMPOS PIMENTEL', 'MARCELO GARCIA MANZATO', 'FREDERICO ARAUJO DURAO', 'DANILO BARBOSA COIMBRA', 'TATIANE NOGUEIRA RIOS', 'MANOEL GOMES DE MENDONCA NETO', 'RITA SUZANA PITANGUEIRA MACIEL', 'ECIVALDO DE SOUZA MATOS', 'LEOBINO NASCIMENTO SAMPAIO', 'FABIOLA GONCALVES PEREIRA GREVE', 'LUCIANO REBOUCAS DE OLIVEIRA', 'ELLEN FRANCINE BARBOSA', 'DENIS FERNANDO WOLF', 'ROSANA TERESINHA VACCARE BRAGA', 'KELEN CRISTIANE TEIXEIRA VIVALDINI', 'VANIA PAULA DE ALMEIDA NERIS', 'LEONARDO CUNHA DE MIRANDA', 'MARIA CECILIA CALANI BARANAUSKAS', 'ROBERTO PEREIRA', 'RAQUEL OLIVEIRA PRATES', 'RAQUEL CARDOSO DE MELO MINARDI', 'LUIZ GONZAGA DA SILVEIRA JUNIOR', 'RODRIGO DA ROSA RIGHI', 'ADENAUER CORREA YAMIN', 'ULISSES BRISOLARA CORREA', 'RENATA HAX SANDER REISER', 'CLAUDIO FERNANDO RESIN GEYER', 'HERMES SENGER', 'ELAINE RIBEIRO DE FARIA PAIVA', 'HUMBERTO LUIZ RAZENTE', 'MARIA CAMILA NARDINI BARIONI', 'MURILO COELHO NALDI', 'ALBERTO EGON SCHAEFFER FILHO', 'JACIR LUIZ BORDIM', 'GABRIEL LUCA NAZAR', 'BRUNO ZATT', 'FELIPE DE SOUZA MARQUES', 'ANDRE INACIO REIS', 'MATEUS GRELLERT DA SILVA', 'LUCIANO VOLCAN AGOSTINI', 'ANA MARILZA PERNAS FLEISCHMANN', 'CRISTIAN CECHINEL', 'TIAGO THOMPSEN PRIMO', 'RICARDO MASSA FERREIRA LIMA', 'EDUARDO ANTONIO GUIMARAES TAVARES', 'RICARDO MARTINS DE ABREU SILVA', 'PAULO ROMERO MARTINS MACIEL', 'GERMANO CRISPIM VASCONCELOS', 'ROBERTO SOUTO MAIOR DE BARROS', 'GEORGE DARMITON DA CUNHA CAVALCANTI', 'RICARDO BASTOS CAVALCANTE PRUDENCIO', 'RENATA MARIA CARDOSO RODRIGUES DE SOUZA', 'SABRINA DOS SANTOS MARCZAK', 'HERMANO PERRELLI DE MOURA', 'KIEV SANTOS DA GAMA', 'GIORDANO RIBEIRO EULALIO CABRAL', 'FREDERICO LUIZ GONCALVES DE FREITAS', 'CELIO VINICIUS NEVES DE ALBUQUERQUE', 'ANTONIO AUGUSTO DE ARAGAO ROCHA', 'GABRIEL DE OLIVEIRA RAMOS', 'CELIA GHEDINI RALHA', 'ALBA CRISTINA MAGALHAES ALVES DE MELO', 'GEORGE LUIZ MEDEIROS TEODORO', 'RENATO ANTONIO CELSO FERREIRA', 'GISELE LOBO PAPPA', 'RENATO MARTINS ASSUNCAO', 'FABRICIO MURAI FERREIRA', 'OLGA NIKOLAEVNA GOUSSEVSKAIA', 'ANA PAULA COUTO DA SILVA', 'ZANONI DIAS', 'ORLANDO LEE', 'MARCIA ROSANA CERIOLI', 'CLODOVEU AUGUSTO DAVIS JUNIOR', 'TIAGO GARCIA DE SENNA CARNEIRO', 'GERALDO ROBSON MATEUS', 'VALERIA CESARIO TIMES', 'SERGIO CASTELO BRANCO SOARES', 'SEBASTIAN ALBERTO URRUTIA', 'ABILIO PEREIRA DE LUCENA FILHO', 'ALEXANDRE SALLES DA CUNHA', 'CRISTIANO ARBEX VALLE', 'RAFAEL AUGUSTO DE MELO', 'TIAGO DE OLIVEIRA JANUARIO', 'THIAGO FERREIRA DE NORONHA', 'MARTIN GOMEZ RAVETTI', 'RICARDO JOSE FERRARI', 'MARCOS AUGUSTO MENEZES VIEIRA', 'DORGIVAL OLAVO GUEDES NETO', 'GERALDO ZIMBRAO DA SILVA', 'JANO MOREIRA DE SOUZA', 'GERALDO BONORINO XEXEO', 'PRISCILA MACHADO VIEIRA LIMA', 'CARLOS EDUARDO PEDREIRA', 'CLAUDIO MICELI DE FARIAS', 'PAULO DE FIGUEIREDO PIRES', 'TIAGO PEREIRA DA SILVA', 'THAIS VASCONCELOS BATISTA', 'GIBEON SOARES DE AQUINO JUNIOR', 'MARCEL VINICIUS MEDEIROS OLIVEIRA', 'EVERTON RANIELLY DE SOUSA CAVALCANTE', 'NELIO ALESSANDRO AZEVEDO CACHO', 'DANIEL CARVALHO DA CUNHA', 'MARTIN ALEJANDRO MUSICANTE', 'UMBERTO SOUZA DA COSTA', 'DIEGO LEONEL CADETTE DUTRA', 'LUIS FELIPE MAGALHAES DE MORAES', 'FABIANO PASSUELO HESSEL', 'AFONSO HENRIQUE CORREA DE SALES', 'RICARDO PEZZUOL JACOBI', 'KARIN BECKER', 'MARA ABEL', 'EDUARDO SIMOES LOPES GASTAL', 'MANUEL MENEZES DE OLIVEIRA NETO', 'LUCIA MARIA DE ASSUMPCAO DRUMMOND', 'FLAVIA CRISTINA BERNARDINI', 'MARIZA FERRO', 'MARIA CRISTINA SILVA BOERES', 'IGOR MACHADO COELHO', 'JOSE VITERBO FILHO', 'LUCIANA CARDOSO DE CASTRO SALGADO', 'ANDREIA LIBORIO SAMPAIO', 'PAULO ARMANDO CAVALCANTE AGUILAR', 'INGRID TEIXEIRA MONTEIRO', 'PAULYNE MATTHEWS JUCA', 'CARLA ILANE MOREIRA BEZERRA', 'IVAN DO CARMO MACHADO', 'CHRISTINA VON FLACH GARCIA CHAVEZ', 'EDNA DIAS CANEDO', 'ANDRE RICARDO ABED GREGIO', 'MARCOS ALEXANDRE CASTILHO', 'LAURA SANCHEZ GARCIA', 'NATASHA MALVEIRA COSTA VALENTIM', 'EDUARDO TODT', 'LUIZ CARLOS PESSOA ALBINI', 'LUIS CARLOS ERPEN DE BONA', 'WAGNER MACHADO NUNAN ZOLA', 'DOUGLAS DYLLON JERONIMO DE MACEDO', 'ALDO VON WANGENHEIM', 'JEAN EVERSON MARTINA', 'ANTONIO AUGUSTO MEDEIROS FROHLICH', 'LUCAS FRANCISCO WANNER', 'GIOVANI GRACIOLI', 'CHRISTIANE ANNELIESE GRESSE VON WANGENHEIM', 'JEAN CARLO ROSSA HAUCK', 'CARLA MERKLE WESTPHALL', 'CARLOS BECKER WESTPHALL', 'RICARDO FELIPE CUSTODIO', 'RENATO FILETO', 'LUIS PAULO FAINA GARCIA', 'VINICIUS RUELA PEREIRA BORGES', 'TEOFILO EMIDIO DE CAMPOS', 'BRUNO LUIGGI MACCHIAVELLO ESPINOZA', 'LUIZ GUSTAVO ALMEIDA MARTINS', 'EMERSON CARLOS PEDRINO', 'GINA MAIRA BARBOSA DE OLIVEIRA', 'STEPHANE JULIA', 'MAURICIO CUNHA ESCARPINATI', 'ANDRE RICARDO BACKES', 'ODEMIR MARTINEZ BRUNO', 'JOAO DO ESPIRITO SANTO BATISTA NETO', 'CAMILO CHANG DOREA', 'ISMAEL SEIDEL', 'GUILHERME RIBEIRO CORREA', 'MARCELO SCHIAVON PORTO', 'DANIEL MUNARI VILCHEZ PALOMINO', 'RICARDO LOPES DE QUEIROZ', 'JOSE LUIS ALMADA GUNTZEL', 'MARCIO BASTOS CASTRO', 'PHILIPPE OLIVIER ALEXANDRE NAVAUX', 'LUIZ GUSTAVO LEAO FERNANDES', 'DANIEL ALFONSO GONCALVES DE OLIVEIRA', 'PATRICIA DELLA MEA PLENTZ', 'JONATA TYSKA CARVALHO', 'VANIA BOGORNY', 'RONALDO DOS SANTOS MELLO', 'MAURO ROISENBERG', 'CELINA MIRAGLIA HERRERA DE FIGUEIREDO', 'RENATO JOSE DA SILVA CARMO', 'ANDRE LUIZ PIRES GUEDES', 'MURILO VICENTE GONCALVES DA SILVA', 'ANDRE LUIS VIGNATTI', 'FLAVIO KEIDI MIYAZAWA', 'PHABLO FERNANDO SOARES MOURA', 'LEHILTON LELIS CHAVES PEDROSA', 'JORGE STOLFI', 'SULAMITA KLEIN', 'FRANK AUGUSTO SIQUEIRA', 'PATRICIA VILAIN', 'JORGE LUIS VICTORIA BARBOSA', 'RODOLFO STOFFEL ANTUNES', 'RAFAEL KUNST', 'RAFAEL DE SANTIAGO', 'ODORICO MACHADO MENDIZABAL', 'FERNANDO LUIS DOTTI', 'LUIZ CLAUDIO VILLAR DOS SANTOS', 'FLAVIO DE BARROS VIDAL', 'PEDRO HENRIQUE LOPES SILVA', 'JADSON CASTRO GERTRUDES', 'MARISTELA TERTO DE HOLANDA', 'EDWARD HERMANN HAEUSLER', 'MARIO ROBERTO FOLHADELA BENEVIDES', 'SERGIO COLCHER', 'ROBERTO IERUSALIMSCHY', 'WALDEMAR CELES FILHO', 'PAULO IVSON NETTO SANTOS', 'CLAUDIA NALON', 'THIAGO DE PAULO FALEIROS', 'MARIA EMILIA MACHADO TELLES WALTER', 'MARCOS SFAIR SUNYE', 'MARCOS DIDONET DEL FABRO', 'LETICIA MARA PERES', 'DANIEL WEINGAERTNER', 'CARLOS ALBERTO MAZIERO', 'EDUARDO JAQUES SPINOSA', 'ANDREY RICARDO PIMENTEL', 'MARCIA APARECIDA FERNANDES', 'ALTAIR OLIVO SANTIN', 'EDUARDO JAMES PEREIRA SOUTO', 'HORACIO ANTONIO BRAGA FERNANDES DE OLIVEIRA', 'EDLENO SILVA DE MOURA', 'NIVIO ZIVIANI', 'EDMUNDO ALBUQUERQUE DE SOUZA E SILVA', 'ROSA MARIA MERI LEAO', 'JOSE ALBERTO CUMINATO', 'FABRICIO SIMEONI DE SOUSA', 'LEANDRO FRANCO DE SOUZA', 'ADENILSO DA SILVA SIMAO', 'ANTONIO CASTELO FILHO', 'AFONSO PAIVA NETO', 'PAULO SERGIO LOPES DE SOUZA', 'MARCIO EDUARDO DELAMARO', 'VALTER VIEIRA DE CAMARGO', 'KALINKA REGINA LUCAS JAQUIE CASTELO BRANCO', 'JULIO CEZAR ESTRELLA', 'ALEX SANDRO ROSCHILDT PINTO', 'SARITA MAZZINI BRUSCHI', 'CLAUDIO FABIANO MOTTA TOLEDO', 'MARISTELA OLIVEIRA DOS SANTOS', 'ROSELI APARECIDA FRANCELIN ROMERO', 'ROBERTO SANTOS INOUE', 'FRANKLINA MARIA BRAGION DE TOLEDO', 'MARINA ANDRETTA', 'ERNESTO JULIAN GOLDBERG BIRGIN', 'SANTIAGO VALDES RAVELO', 'LUCIANA SALETE BURIOL', 'ANDRE GRAHL PEREIRA', 'VANDERLEI BONATO', 'GUSTAVO CARLOS BUSCAGLIA', 'ROBERTO FEDERICO AUSAS', 'RAFAEL GIUSTI', 'JOSE FRANCISCO DE MAGALHAES NETTO', 'DIEGO FURTADO SILVA', 'VINICIUS MOURAO ALVES DE SOUZA', 'HELENA DE MEDEIROS CASELI', 'TIAGO AGOSTINHO DE ALMEIDA', 'THIAGO ALEXANDRE SALGUEIRO PARDO', 'SANDRA MARIA ALUISIO', 'DIEGO RAPHAEL AMANCIO', 'JUAN GABRIEL COLONNA', 'ANDREIA MALUCELLI', 'MARCELO WALTER', 'SHEILA DOS SANTOS REINEHR', 'ANDERSON MACIEL', 'LUCIANA PORCHER NEDEL', 'DANTE AUGUSTO COUTO BARONE', 'CLAUDIO ROSITO JUNG', 'EDUARDO KUGLER VIEGAS', 'CRISTON PEREIRA DE SOUZA', 'DAVI ROMERO DE VASCONCELOS', 'MARIA VIVIANE DE MENEZES', 'LELIANE NUNES DE BARROS', 'RONALDO FUMIO HASHIMOTO', 'JUNIOR BARRERA', 'PAULO ANDRE VECHIATTO DE MIRANDA', 'ALEXANDRE XAVIER FALCAO', 'MAURICIO ROBERTO VERONEZ', 'JEFERSSON ALEX DOS SANTOS', 'MARIO SERGIO FERREIRA ALVIM JUNIOR', 'SERGIO VALE AGUIAR CAMPOS', 'ITALO FERNANDO SCOTA CUNHA', 'DENIS DERATANI MAUA', 'EMANUEL FERREIRA COUTINHO', 'ALBERTO SAMPAIO LIMA', 'ARTHUR DE CASTRO CALLADO', 'JUDITH KELNER', 'ALUIZIO FAUSTO RIBEIRO ARAUJO', 'MARCIO ESPINDOLA FREIRE MAIA', 'ELVIS MIGUEL GALEAS STANCANELLI', 'DANIELA GORSKI TREVISAN', 'ANSELMO ANTUNES MONTENEGRO', 'DIEGO GIMENEZ PASSOS', 'MARCONE JAMILSON FREITAS SOUZA', 'TULIO ANGELO MACHADO TOFFOLO', 'RODRIGO CESAR PEDROSA SILVA', 'MARCO ANTONIO MOREIRA DE CARVALHO', 'SAUL EMANUEL DELABRIDA SILVA', 'SIMONE DE LIMA MARTINS', 'YURI ABITBOL DE MENEZES FROTA', 'MARCOS DE OLIVEIRA LAGE FERREIRA', 'PUCA HUACHI VAZ PENNA', 'JORGE CARLOS LUCERO', 'RAFAEL DUEIRE LINS', 'NELSON SOUTO ROSA', 'RIVALINO MATIAS JUNIOR', 'SILVIO DE BARROS MELO', 'PAULO JORGE LEITAO ADEODATO', 'SILVIO ROMERO DE LEMOS MEIRA', 'ANA CAROLINA BRANDAO SALGADO', 'FERNANDO JOSE CASTOR DE LIMA FILHO', 'EDSON BORIN', 'JULIANA FREITAG BORIN', 'ANDRE RAUBER DU BOIS', 'LUCIANA FOSS', 'RODRIGO GERALDO RIBEIRO', 'CELIA APARECIDA ZORZO BARCELOS', 'FLAVIO RECH WAGNER', 'LISANDRO ZAMBENEDETTI GRANVILLE', 'KAMILA RIOS DA HORA RODRIGUES', 'ORIDES MORANDIN JUNIOR', 'DANIELA BARREIRO CLARO', 'MARLO VIEIRA DOS SANTOS E SOUZA', 'RENATA WASSERMANN', 'KELLY ROSA BRAGHETTO', 'FABIO KON', 'DILVAN DE ABREU MOREIRA', 'CLAUDIO NOGUEIRA SANTANNA', 'LEONIDAS DE OLIVEIRA BRANDAO', 'CARLOS HITOSHI MORIMOTO', 'RAFAEL HEITOR BORDINI', 'EMERSON CABRERA PARAISO', 'VIRGILIO AUGUSTO FERNANDES ALMEIDA', 'RICARDO DAHAB', 'JULIO CESAR LOPEZ HERNANDEZ', 'SANDRA ELIZA FONTES DE AVILA', 'PAULO ROBERTO FERREIRA JUNIOR', 'CLAUDIA MARIA BAUZER MEDEIROS', 'JULIANO MANABU IYODA', 'REGIVAN HUGO NUNES SANTIAGO', 'TIAGO COELHO FERRETO', 'ELIZABETH FERREIRA GOUVEA', 'LYRENE FERNANDES DA SILVA', 'BRENO ALEXANDRO FERREIRA DE MIRANDA', 'ROBESPIERRE DANTAS DA ROCHA PITA', 'OLGA REGINA PEREIRA BELLON', 'MARIANA LUDERITZ KOLBERG', 'FABIANO AZEVEDO DORCA', 'SINAI ROBINS', 'UMBERTO RIVIECCIO', 'SERGIO QUEIROZ DE MEDEIROS', 'BRUNO BARBIERI DE PONTES CAFEO', 'DIVANILSON RODRIGO DE SOUSA CAMPELO', 'KELVIN LOPES DIAS', 'PAULO ROBERTO FREIRE CUNHA', 'ADIEL TEIXEIRA DE ALMEIDA FILHO', 'NIVAN ROBERTO FERREIRA JUNIOR', 'LEANDRO MACIEL ALMEIDA', 'RENATO MARIZ DE MORAES', 'CICERO FERREIRA FERNANDES COSTA FILHO', 'ROBERTO HIRATA JUNIOR', 'NINA SUMIKO TOMITA HIRATA', 'CARMEM SATIE HARA', 'MARCUS VINICIUS SOLEDADE POGGI DE ARAGAO', 'DIBIO LEANDRO BORGES', 'MAURICIO AYALA RINCON', 'SILVIA REGINA VERGILIO', 'MARCOS VINICIUS NAVES BEDO', 'MARCELO GOMES DE QUEIROZ', 'GABRIEL DE MORAIS COUTINHO', 'MARCEL KENJI DE CARLI SILVA', 'TOACY CAVALCANTE DE OLIVEIRA', 'EDSON EMILIO SCALABRIN', 'FABRICIO ENEMBRECK', 'MARCELO EDUARDO PELLENZ', 'MARIZA ANDRADE DA SILVA BIGONHA', 'GUILHERME PIMENTEL TELLES', 'GUIDO COSTA SOUZA DE ARAUJO', 'HERVE CEDRIC YVIQUEL', 'RAFAEL VIDAL AROCA', 'ALDEBARO BARRETO DA ROCHA KLAUTAU JUNIOR', 'JULIO CESAR STACCHINI DE SOUZA', 'LEANDRO AUGUSTO FRATA FERNANDES', 'ANDRE MAUES BRABO PEREIRA', 'RICARDO LEIDERMAN', 'GERSON ZAVERUCHA', 'LOIC PASCAL GILLES CERF'])\n",
      "2\n",
      "COMPONENTE OLHA SO dict_keys(['PEDRO HENRIQUE BUGATTI', 'PRISCILA TIEMI MAEDA SAITO'])\n",
      "2\n",
      "COMPONENTE OLHA SO dict_keys(['EDUARDO FONTOURA COSTA', 'ELIAS SALOMAO HELOU NETO'])\n",
      "1\n",
      "COMPONENTE OLHA SO dict_keys(['HANSENCLEVER DE FRANCA BASSANI'])\n",
      "2\n",
      "COMPONENTE OLHA SO dict_keys(['EDUARDO SANY LABER', 'MARCO SERPA MOLINARO'])\n"
     ]
    }
   ],
   "source": [
    "for component in components:\n",
    "    print(len(component))\n",
    "    print(\"COMPONENTE OLHA SO\",component)"
   ]
  },
  {
   "cell_type": "code",
   "execution_count": null,
   "metadata": {},
   "outputs": [],
   "source": []
  },
  {
   "cell_type": "markdown",
   "metadata": {},
   "source": [
    "### 8) Calcule o diâmetro e o raio do grafo. O que essas métricas representam nesse contexto?"
   ]
  },
  {
   "cell_type": "code",
   "execution_count": null,
   "metadata": {},
   "outputs": [],
   "source": []
  },
  {
   "cell_type": "markdown",
   "metadata": {},
   "source": [
    "### 9) Quais são as 10 arestas mais relevantes no grafo perante a métrica de centralidade de intermediação? Dentre essas arestas, há algum comportamento que se destaca?"
   ]
  },
  {
   "cell_type": "code",
   "execution_count": null,
   "metadata": {},
   "outputs": [],
   "source": []
  },
  {
   "cell_type": "markdown",
   "metadata": {},
   "source": [
    "### 10) Qual é a média das distâncias geodésicas da maior componente do grafo? O que essa métrica representa nesse contexto? "
   ]
  },
  {
   "cell_type": "code",
   "execution_count": null,
   "metadata": {},
   "outputs": [],
   "source": []
  },
  {
   "cell_type": "markdown",
   "metadata": {},
   "source": [
    "### 11) Dentro do grafo, encontre a componente com a maior quantidade de vértices. Dentro desta componente, execute o algoritmo de Girvan-Newman e encontre as quatro principais comunidades. Para cada comunidade, identifique e discuta os autores mais significativos de acordo com as métricas que julgar mais adequado"
   ]
  }
 ],
 "metadata": {
  "kernelspec": {
   "display_name": "Python 3",
   "language": "python",
   "name": "python3"
  },
  "language_info": {
   "codemirror_mode": {
    "name": "ipython",
    "version": 3
   },
   "file_extension": ".py",
   "mimetype": "text/x-python",
   "name": "python",
   "nbconvert_exporter": "python",
   "pygments_lexer": "ipython3",
   "version": "3.12.1"
  }
 },
 "nbformat": 4,
 "nbformat_minor": 2
}

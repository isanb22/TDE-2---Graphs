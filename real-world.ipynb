{
 "cells": [
  {
   "cell_type": "code",
   "execution_count": 1,
   "metadata": {},
   "outputs": [],
   "source": [
    "import paito\n",
    "import pandas as pd"
   ]
  },
  {
   "cell_type": "code",
   "execution_count": 2,
   "metadata": {},
   "outputs": [
    {
     "data": {
      "text/html": [
       "<div>\n",
       "<style scoped>\n",
       "    .dataframe tbody tr th:only-of-type {\n",
       "        vertical-align: middle;\n",
       "    }\n",
       "\n",
       "    .dataframe tbody tr th {\n",
       "        vertical-align: top;\n",
       "    }\n",
       "\n",
       "    .dataframe thead th {\n",
       "        text-align: right;\n",
       "    }\n",
       "</style>\n",
       "<table border=\"1\" class=\"dataframe\">\n",
       "  <thead>\n",
       "    <tr style=\"text-align: right;\">\n",
       "      <th></th>\n",
       "      <th>TITULO</th>\n",
       "      <th>ANO</th>\n",
       "      <th>NOMES_AJUSTADOS</th>\n",
       "    </tr>\n",
       "  </thead>\n",
       "  <tbody>\n",
       "    <tr>\n",
       "      <th>0</th>\n",
       "      <td>POSSVEL DESCREVER EPISDIOS DE SRIES DE TELEVI...</td>\n",
       "      <td>2017.0</td>\n",
       "      <td>['PEDRO OLMO STANCIOLI VAZ DE MELO', 'ADRIANO ...</td>\n",
       "    </tr>\n",
       "    <tr>\n",
       "      <th>1</th>\n",
       "      <td>POSSVEL PREVER EVASO COM BASE APENAS NO DESEM...</td>\n",
       "      <td>2021.0</td>\n",
       "      <td>['SIMONE DE LIMA MARTINS', 'ALEXANDRE PLASTINO...</td>\n",
       "    </tr>\n",
       "    <tr>\n",
       "      <th>2</th>\n",
       "      <td>10SENT A STABLE SENTIMENT ANALYSIS METHOD BASE...</td>\n",
       "      <td>2019.0</td>\n",
       "      <td>['FABRICIO BENEVENUTO DE SOUZA', 'MARCOS ANDRE...</td>\n",
       "    </tr>\n",
       "    <tr>\n",
       "      <th>3</th>\n",
       "      <td>2015 IEEE LATIN AMERICA NETWORK OPERATION AND ...</td>\n",
       "      <td>2016.0</td>\n",
       "      <td>['AUGUSTO JOSE VENANCIO NETO', 'ALDRI LUIZ DOS...</td>\n",
       "    </tr>\n",
       "    <tr>\n",
       "      <th>4</th>\n",
       "      <td>2ISOGENIES BETWEEN ELLIPTIC CURVES IN HESSE MODEL</td>\n",
       "      <td>2018.0</td>\n",
       "      <td>['JULIO CESAR LOPEZ HERNANDEZ', 'RICARDO DAHAB']</td>\n",
       "    </tr>\n",
       "  </tbody>\n",
       "</table>\n",
       "</div>"
      ],
      "text/plain": [
       "                                              TITULO     ANO  \\\n",
       "0   POSSVEL DESCREVER EPISDIOS DE SRIES DE TELEVI...  2017.0   \n",
       "1   POSSVEL PREVER EVASO COM BASE APENAS NO DESEM...  2021.0   \n",
       "2  10SENT A STABLE SENTIMENT ANALYSIS METHOD BASE...  2019.0   \n",
       "3  2015 IEEE LATIN AMERICA NETWORK OPERATION AND ...  2016.0   \n",
       "4  2ISOGENIES BETWEEN ELLIPTIC CURVES IN HESSE MODEL  2018.0   \n",
       "\n",
       "                                     NOMES_AJUSTADOS  \n",
       "0  ['PEDRO OLMO STANCIOLI VAZ DE MELO', 'ADRIANO ...  \n",
       "1  ['SIMONE DE LIMA MARTINS', 'ALEXANDRE PLASTINO...  \n",
       "2  ['FABRICIO BENEVENUTO DE SOUZA', 'MARCOS ANDRE...  \n",
       "3  ['AUGUSTO JOSE VENANCIO NETO', 'ALDRI LUIZ DOS...  \n",
       "4   ['JULIO CESAR LOPEZ HERNANDEZ', 'RICARDO DAHAB']  "
      ]
     },
     "execution_count": 2,
     "metadata": {},
     "output_type": "execute_result"
    }
   ],
   "source": [
    "df = pd.read_csv(\"tabela.csv\")\n",
    "df.head()"
   ]
  },
  {
   "cell_type": "code",
   "execution_count": 3,
   "metadata": {},
   "outputs": [],
   "source": [
    "''' Separando os nomes para criar os vértices '''\n",
    "def formatar(nomes):\n",
    "    # Converte a string numa lista\n",
    "    nomes = eval(nomes) \n",
    "    return [f\"{nome.strip()}\" for nome in nomes]\n",
    "\n",
    "# Aplica a função a coluna de nomes\n",
    "nomesNodes = df['NOMES_AJUSTADOS'].apply(formatar)"
   ]
  },
  {
   "cell_type": "code",
   "execution_count": 4,
   "metadata": {},
   "outputs": [],
   "source": [
    "''' criando o grafo com matriz '''\n",
    "matriz = paito.Grafo(repr=\"matriz\", direcionado=False, ponderado=True)\n"
   ]
  },
  {
   "cell_type": "code",
   "execution_count": 5,
   "metadata": {},
   "outputs": [],
   "source": [
    "''' criando o grafo com lista '''\n",
    "lista = paito.Grafo(repr=\"lista\", direcionado=False, ponderado=True)\n"
   ]
  },
  {
   "cell_type": "code",
   "execution_count": 6,
   "metadata": {},
   "outputs": [],
   "source": [
    "''' adicionando os vértices na matriz '''\n",
    "for array in nomesNodes:\n",
    "    for nome in array:\n",
    "        if nome not in matriz.vertices:\n",
    "            matriz.adicionarVertice(nome)"
   ]
  },
  {
   "cell_type": "code",
   "execution_count": 7,
   "metadata": {},
   "outputs": [],
   "source": [
    "''' adicionando os vértices na lista '''\n",
    "for array in nomesNodes:\n",
    "    for nome in array:\n",
    "        if nome not in lista.vertices:\n",
    "            lista.adicionarVertice(nome)"
   ]
  },
  {
   "cell_type": "code",
   "execution_count": 8,
   "metadata": {},
   "outputs": [],
   "source": [
    "''' adicionando as arestas entre os autores - matriz '''\n",
    "from itertools import combinations\n",
    "\n",
    "nomes_ajustados = df['NOMES_AJUSTADOS'].apply(lambda x: eval(x))\n",
    "peso = 1\n",
    "\n",
    "for nomes in nomes_ajustados:\n",
    "    if len(nomes) > 1:\n",
    "        # Gerar todas as combinações possíveis de pares de nomes\n",
    "        combinacoes = combinations(nomes, 2)\n",
    "        for nome1, nome2 in combinacoes:\n",
    "            # se a aresta já existir, incrementa no peso\n",
    "            if matriz.verificarAresta(nome1, nome2) or matriz.verificarAresta(nome2, nome1) :\n",
    "                peso = matriz.recuperarPeso(nome1, nome2)\n",
    "                novoPeso = peso + 1 \n",
    "                matriz.atualizarPesoAresta(nome1, nome2, novoPeso)\n",
    "\n",
    "            # se não existir, adiciona aresta\n",
    "            else:\n",
    "                matriz.adicionarAresta(nome1, nome2)\n",
    "            "
   ]
  },
  {
   "cell_type": "code",
   "execution_count": 9,
   "metadata": {},
   "outputs": [],
   "source": [
    "''' adicionando as arestas entre os autores - lista '''\n",
    "from itertools import combinations\n",
    "\n",
    "nomes_ajustados = df['NOMES_AJUSTADOS'].apply(lambda x: eval(x))\n",
    "peso = 1\n",
    "\n",
    "for nomes in nomes_ajustados:\n",
    "    if len(nomes) > 1:\n",
    "        # Gerar todas as combinações possíveis de pares de nomes\n",
    "        combinacoes = combinations(nomes, 2)\n",
    "        for nome1, nome2 in combinacoes:\n",
    "            # se a aresta já existir, incrementa no peso\n",
    "            if lista.verificarAresta(nome1, nome2) or lista.verificarAresta(nome2, nome1) :\n",
    "                peso = lista.recuperarPeso(nome1, nome2)\n",
    "                novoPeso = peso + 1 \n",
    "                lista.atualizarPesoAresta(nome1, nome2, novoPeso)\n",
    "\n",
    "            # se não existir, adiciona aresta\n",
    "            else:\n",
    "                lista.adicionarAresta(nome1, nome2)\n",
    "        "
   ]
  },
  {
   "cell_type": "markdown",
   "metadata": {},
   "source": [
    "### 1) Quais pares de autores são os mais produtivos dentro da rede? Elenque os 10 pares de autores"
   ]
  },
  {
   "cell_type": "code",
   "execution_count": 11,
   "metadata": {},
   "outputs": [
    {
     "name": "stdout",
     "output_type": "stream",
     "text": [
      "[('RODRIGO DA ROSA RIGHI', 'CRISTIANO ANDRE DA COSTA', 192), ('BRUNO ZATT', 'LUCIANO VOLCAN AGOSTINI', 155), ('SIMONE ANDRE DA COSTA CAVALHEIRO', 'LUCIANA FOSS', 104), ('LUIZ GUSTAVO LEAO FERNANDES', 'DALVAN JAIR GRIEBLER', 80), ('ALDRI LUIZ DOS SANTOS', 'MICHELE NOGUEIRA LIMA', 76), ('EVERTON RANIELLY DE SOUSA CAVALCANTE', 'THAIS VASCONCELOS BATISTA', 68), ('DJAMEL FAWZI HADJ SADOK', 'JUDITH KELNER', 67), ('ADENAUER CORREA YAMIN', 'ANA MARILZA PERNAS FLEISCHMANN', 63), ('PEDRO HENRIQUE BUGATTI', 'PRISCILA TIEMI MAEDA SAITO', 58), ('CAETANO TRAINA JUNIOR', 'AGMA JUCI MACHADO TRAINA', 58)]\n"
     ]
    }
   ],
   "source": [
    "''' função mais_produtivos para matriz '''\n",
    "def mais_produtivos():\n",
    "    pares = []\n",
    "    for vertice in matriz.vertices:\n",
    "        vizinhos = matriz.pegaVizinhos(vertice)\n",
    "        for vizinho in vizinhos:\n",
    "            peso = matriz.recuperarPeso(vertice, vizinho)\n",
    "            if not any((v == vertice and w == vizinho) or (v == vizinho and w == vertice) for v, w, p in pares):\n",
    "                pares.append((vertice, vizinho, peso))\n",
    "\n",
    "    # ordena a lista de pares de nomes em ordem decrescente\n",
    "    pares.sort(key=lambda x: x[2], reverse=True)\n",
    "\n",
    "    # retorna apenas os 10 tops\n",
    "    return pares[:10]\n",
    "\n",
    "print(mais_produtivos())\n",
    "\n"
   ]
  },
  {
   "cell_type": "code",
   "execution_count": 22,
   "metadata": {},
   "outputs": [
    {
     "name": "stdout",
     "output_type": "stream",
     "text": [
      "[('RODRIGO DA ROSA RIGHI', 'CRISTIANO ANDRE DA COSTA', 192), ('BRUNO ZATT', 'LUCIANO VOLCAN AGOSTINI', 155), ('SIMONE ANDRE DA COSTA CAVALHEIRO', 'LUCIANA FOSS', 104), ('LUIZ GUSTAVO LEAO FERNANDES', 'DALVAN JAIR GRIEBLER', 80), ('ALDRI LUIZ DOS SANTOS', 'MICHELE NOGUEIRA LIMA', 76), ('EVERTON RANIELLY DE SOUSA CAVALCANTE', 'THAIS VASCONCELOS BATISTA', 68), ('DJAMEL FAWZI HADJ SADOK', 'JUDITH KELNER', 67), ('ADENAUER CORREA YAMIN', 'ANA MARILZA PERNAS FLEISCHMANN', 63), ('PEDRO HENRIQUE BUGATTI', 'PRISCILA TIEMI MAEDA SAITO', 58), ('CAETANO TRAINA JUNIOR', 'AGMA JUCI MACHADO TRAINA', 58)]\n"
     ]
    }
   ],
   "source": [
    "''' função mais_produtivos para lista '''\n",
    "def mais_produtivos():\n",
    "    pares = []\n",
    "    for vertice in matriz.vertices:\n",
    "        vizinhos = matriz.pegaVizinhos(vertice)\n",
    "        for vizinho in vizinhos:\n",
    "            peso = lista.recuperarPeso(vertice, vizinho)\n",
    "            if not any((v == vertice and w == vizinho) or (v == vizinho and w == vertice) for v, w, p in pares):\n",
    "                pares.append((vertice, vizinho, peso))\n",
    "\n",
    "    # ordena a lista de pares de nomes em ordem decrescente\n",
    "    pares.sort(key=lambda x: x[2], reverse=True)\n",
    "\n",
    "    # retorna apenas os 10 tops\n",
    "    return pares[:10]\n",
    "\n",
    "print(mais_produtivos())"
   ]
  },
  {
   "cell_type": "markdown",
   "metadata": {},
   "source": [
    "### 2) Quantas componentes o grafo possui? O que isso representa?\n"
   ]
  },
  {
   "cell_type": "code",
   "execution_count": 12,
   "metadata": {},
   "outputs": [
    {
     "name": "stdout",
     "output_type": "stream",
     "text": [
      "O grafo apresenta o total de 5 componentes.\n"
     ]
    }
   ],
   "source": [
    "'''Matriz'''\n",
    "components = matriz.extractComponents()\n",
    "print(f\"O grafo apresenta o total de {len(components)} componentes.\")"
   ]
  },
  {
   "cell_type": "code",
   "execution_count": 23,
   "metadata": {},
   "outputs": [
    {
     "name": "stdout",
     "output_type": "stream",
     "text": [
      "O grafo apresenta o total de 5 componentes.\n"
     ]
    }
   ],
   "source": [
    "'''Lista'''\n",
    "components = lista.extractComponents()\n",
    "print(f\"O grafo apresenta o total de {len(components)} componentes.\")"
   ]
  },
  {
   "cell_type": "markdown",
   "metadata": {},
   "source": [
    "### 3) Qual é a distribuição dos graus dos nós da rede? Essa distribuição demonstra comportamento de uma rede complexa?"
   ]
  },
  {
   "cell_type": "code",
   "execution_count": 13,
   "metadata": {},
   "outputs": [
    {
     "name": "stderr",
     "output_type": "stream",
     "text": [
      "d:\\faculdadadade\\5º Período\\Graphs\\TDE2\\TDE-2---Graphs\\paito.py:1397: UserWarning: \n",
      "The palette list has fewer values (8) than needed (24) and will cycle, which may produce an uninterpretable plot.\n",
      "  sns.countplot(data=df, x='graus', palette=colors, hue='graus', dodge=False, legend=False)\n"
     ]
    },
    {
     "data": {
      "image/png": "[encoded data removed]",
      "text/plain": [
       "<Figure size 640x480 with 1 Axes>"
      ]
     },
     "metadata": {},
     "output_type": "display_data"
    }
   ],
   "source": [
    "''' Aqui usaremos o gráfico para nos auxiliar na identificação da distribuição de grau'''\n",
    "matriz.gerarHistograma()"
   ]
  },
  {
   "cell_type": "markdown",
   "metadata": {},
   "source": [
    "### 4) Quais são os 10 autores mais influentes perante a métrica de centralidade de grau?  O que essa métrica representa nesse contexto?"
   ]
  },
  {
   "cell_type": "code",
   "execution_count": 24,
   "metadata": {},
   "outputs": [
    {
     "name": "stdout",
     "output_type": "stream",
     "text": [
      "[('JO UEYAMA', 0.0331), ('MARCOS KALINOWSKI', 0.0303), ('LI WEIGANG', 0.0289), ('ANTONIO ALFREDO FERREIRA LOUREIRO', 0.0289), ('WAGNER MEIRA JUNIOR', 0.0275), ('CRISTIANO ANDRE DA COSTA', 0.0275), ('RODOLFO IPOLITO MENEGUETTE', 0.0275), ('GERALDO PEREIRA ROCHA FILHO', 0.0262), ('DAVID MENOTTI GOMES', 0.0262), ('UEVERTON DOS SANTOS SOUZA', 0.0262)]\n"
     ]
    }
   ],
   "source": [
    "''' Função que calcula a centralidade de grau e retorna os 10 mais tops - matriz'''\n",
    "def top_degree_centralities():\n",
    "    degreeCentralities = matriz.allDegreeCentralities()\n",
    "\n",
    "    # retorna os top 10 vértices com a maior centralidade de grau em ordem decrescente\n",
    "    return sorted(degreeCentralities.items(), key=lambda x: x[1], reverse=True)[:10]\n",
    "\n",
    "print(top_degree_centralities())\n"
   ]
  },
  {
   "cell_type": "code",
   "execution_count": 25,
   "metadata": {},
   "outputs": [
    {
     "name": "stdout",
     "output_type": "stream",
     "text": [
      "[('JO UEYAMA', 0.0331), ('MARCOS KALINOWSKI', 0.0303), ('LI WEIGANG', 0.0289), ('ANTONIO ALFREDO FERREIRA LOUREIRO', 0.0289), ('WAGNER MEIRA JUNIOR', 0.0275), ('CRISTIANO ANDRE DA COSTA', 0.0275), ('RODOLFO IPOLITO MENEGUETTE', 0.0275), ('GERALDO PEREIRA ROCHA FILHO', 0.0262), ('DAVID MENOTTI GOMES', 0.0262), ('UEVERTON DOS SANTOS SOUZA', 0.0262)]\n"
     ]
    }
   ],
   "source": [
    "''' Função que calcula a centralidade de grau e retorna os 10 mais tops - lista'''\n",
    "def top_degree_centralities():\n",
    "    degreeCentralities = lista.allDegreeCentralities()\n",
    "\n",
    "    # retorna os top 10 vértices com a maior centralidade de grau em ordem decrescente\n",
    "    return sorted(degreeCentralities.items(), key=lambda x: x[1], reverse=True)[:10]\n",
    "\n",
    "print(top_degree_centralities())\n"
   ]
  },
  {
   "cell_type": "markdown",
   "metadata": {},
   "source": [
    "### 5) Quais são os 10 autores mais influentes perante a métrica de centralidade de intermediação?"
   ]
  },
  {
   "cell_type": "code",
   "execution_count": null,
   "metadata": {},
   "outputs": [],
   "source": [
    "''' Função que calcula a centralidade de intermediação e retorna os 10 mais tops - matriz'''\n",
    "def top_bet_centralities():\n",
    "    betCentralities = matriz.allNodesBet()\n",
    "\n",
    "    # retorna os top 10 vértices com a maior centralidade de grau em ordem decrescente\n",
    "    return sorted(betCentralities.items(), key=lambda x: x[1], reverse=True)[:10]\n",
    "\n",
    "print(top_bet_centralities())\n"
   ]
  },
  {
   "cell_type": "code",
   "execution_count": 29,
   "metadata": {},
   "outputs": [
    {
     "name": "stdout",
     "output_type": "stream",
     "text": [
      "[('JO UEYAMA', 0.04533683453823752), ('EDISON PIGNATON DE FREITAS', 0.03728785689773236), ('ROBERTO PEREIRA', 0.03480063746255947), ('ANDRE CARLOS PONCE DE LEON FERREIRA DE CARVALHO', 0.031774277534539236), ('MARCOS KALINOWSKI', 0.031088716179455498), ('VINICIUS FERNANDES DOS SANTOS', 0.03080951447518708), ('ADRIANO LORENA INACIO DE OLIVEIRA', 0.027830527736847428), ('GISELE LOBO PAPPA', 0.02676359660837196), ('LI WEIGANG', 0.02666901614997547), ('ALDRI LUIZ DOS SANTOS', 0.02560827949536231)]\n"
     ]
    }
   ],
   "source": [
    "''' Função que calcula a centralidade de intermediação e retorna os 10 mais tops - lista'''\n",
    "def top_bet_centralities():\n",
    "    betCentralities = lista.allNodesBet()\n",
    "\n",
    "    # retorna os top 10 vértices com a maior centralidade de grau em ordem decrescente\n",
    "    return sorted(betCentralities.items(), key=lambda x: x[1], reverse=True)[:10]\n",
    "\n",
    "print(top_bet_centralities())"
   ]
  },
  {
   "cell_type": "markdown",
   "metadata": {},
   "source": [
    "### 6) Quais são os 10 autores mais influentes perante a métrica de centralidade de proximidade? O que essa métrica representa nesse contexto?"
   ]
  },
  {
   "cell_type": "code",
   "execution_count": 18,
   "metadata": {},
   "outputs": [],
   "source": [
    "''' Função que calcula os 10 tops closeness - matriz'''\n",
    "def top_closeness():\n",
    "    closenesses = matriz.closeness()\n",
    "\n",
    "    return sorted(closenesses, reverse=True)[:10]\n"
   ]
  },
  {
   "cell_type": "code",
   "execution_count": 19,
   "metadata": {},
   "outputs": [
    {
     "name": "stdout",
     "output_type": "stream",
     "text": [
      "[('ZHAO LIANG', 0.2871), ('ZANONI DIAS', 0.2585), ('YURI ABITBOL DE MENEZES FROTA', 0.2173), ('YOSHIKO WAKABAYASHI', 0.2249), ('YOSHIHARU KOHAYAKAWA', 0.2167), ('WILLIAM ROBSON SCHWARTZ', 0.2866), ('WEVERTON LUIS DA COSTA CORDEIRO', 0.2531), ('WANDERLEY LOPES DE SOUZA', 0.2016), ('WALDEMAR CELES FILHO', 0.2201), ('WAGNER MEIRA JUNIOR', 0.2657)]\n"
     ]
    }
   ],
   "source": [
    "print(top_closeness())"
   ]
  },
  {
   "cell_type": "markdown",
   "metadata": {},
   "source": [
    "### 7) Quais são os 10 autores mais influentes perante a metrica de centralidade de excentricidade? O que essa métrica representa nesse contexto?"
   ]
  },
  {
   "cell_type": "code",
   "execution_count": 20,
   "metadata": {},
   "outputs": [],
   "source": [
    "''' Função que calcula os 10 tops eccentricity - matriz'''\n",
    "def top_eccentricities():\n",
    "    tops = []\n",
    "    for component in components:\n",
    "        eccentricities = matriz.eccentricity()\n",
    "        maiores = sorted(eccentricities, reverse=True)[:10]\n",
    "        tops.append(maiores)\n",
    "\n",
    "    return sorted(tops, reverse=True)[:10]\n"
   ]
  },
  {
   "cell_type": "code",
   "execution_count": 21,
   "metadata": {},
   "outputs": [
    {
     "ename": "Exception",
     "evalue": "Não é possível obter a excentricidade de todos os vértices em um grafo não conectado.",
     "output_type": "error",
     "traceback": [
      "\u001b[1;31m---------------------------------------------------------------------------\u001b[0m",
      "\u001b[1;31mException\u001b[0m                                 Traceback (most recent call last)",
      "Cell \u001b[1;32mIn[21], line 1\u001b[0m\n\u001b[1;32m----> 1\u001b[0m \u001b[38;5;28mprint\u001b[39m(\u001b[43mtop_eccentricities\u001b[49m\u001b[43m(\u001b[49m\u001b[43m)\u001b[49m)\n",
      "Cell \u001b[1;32mIn[20], line 5\u001b[0m, in \u001b[0;36mtop_eccentricities\u001b[1;34m()\u001b[0m\n\u001b[0;32m      3\u001b[0m tops \u001b[38;5;241m=\u001b[39m []\n\u001b[0;32m      4\u001b[0m \u001b[38;5;28;01mfor\u001b[39;00m component \u001b[38;5;129;01min\u001b[39;00m components:\n\u001b[1;32m----> 5\u001b[0m     eccentricities \u001b[38;5;241m=\u001b[39m \u001b[43mmatriz\u001b[49m\u001b[38;5;241;43m.\u001b[39;49m\u001b[43meccentricity\u001b[49m\u001b[43m(\u001b[49m\u001b[43m)\u001b[49m\n\u001b[0;32m      6\u001b[0m     maiores \u001b[38;5;241m=\u001b[39m \u001b[38;5;28msorted\u001b[39m(eccentricities, reverse\u001b[38;5;241m=\u001b[39m\u001b[38;5;28;01mTrue\u001b[39;00m)[:\u001b[38;5;241m10\u001b[39m]\n\u001b[0;32m      7\u001b[0m     tops\u001b[38;5;241m.\u001b[39mappend(maiores)\n",
      "File \u001b[1;32md:\\faculdadadade\\5º Período\\Graphs\\TDE2\\TDE-2---Graphs\\paito.py:47\u001b[0m, in \u001b[0;36mGrafo.eccentricity\u001b[1;34m(self)\u001b[0m\n\u001b[0;32m     44\u001b[0m   \u001b[38;5;28;01mreturn\u001b[39;00m eccentricities\n\u001b[0;32m     46\u001b[0m \u001b[38;5;28;01melse\u001b[39;00m:\n\u001b[1;32m---> 47\u001b[0m   \u001b[38;5;28;01mraise\u001b[39;00m \u001b[38;5;167;01mException\u001b[39;00m(\u001b[38;5;124m\"\u001b[39m\u001b[38;5;124mNão é possível obter a excentricidade de todos os vértices em um grafo não conectado.\u001b[39m\u001b[38;5;124m\"\u001b[39m)\n",
      "\u001b[1;31mException\u001b[0m: Não é possível obter a excentricidade de todos os vértices em um grafo não conectado."
     ]
    }
   ],
   "source": [
    "print(top_eccentricities())"
   ]
  }
 ],
 "metadata": {
  "kernelspec": {
   "display_name": "Python 3",
   "language": "python",
   "name": "python3"
  },
  "language_info": {
   "codemirror_mode": {
    "name": "ipython",
    "version": 3
   },
   "file_extension": ".py",
   "mimetype": "text/x-python",
   "name": "python",
   "nbconvert_exporter": "python",
   "pygments_lexer": "ipython3",
   "version": "3.12.1"
  }
 },
 "nbformat": 4,
 "nbformat_minor": 2
}
